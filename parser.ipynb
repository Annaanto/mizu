{
 "cells": [
  {
   "cell_type": "code",
   "execution_count": 19,
   "metadata": {},
   "outputs": [
    {
     "name": "stdout",
     "output_type": "stream",
     "text": [
      "FMAdd_on\n",
      "<class 'lxml.etree._Attrib'>\n"
     ]
    }
   ],
   "source": [
    "#Switching to lxml from Elementtree\n",
    "\n",
    "from lxml import etree\n",
    "filepath  = 'proof_mizu_theme/template.xml'\n",
    "tree = etree.parse(filepath)\n",
    "root = tree.getroot()\n",
    "print(root.tag)\n",
    "print(type(root.attrib))\n",
    "\n"
   ]
  },
  {
   "cell_type": "code",
   "execution_count": 20,
   "metadata": {},
   "outputs": [
    {
     "data": {
      "text/plain": [
       "'LayoutObject'"
      ]
     },
     "execution_count": 20,
     "metadata": {},
     "output_type": "execute_result"
    }
   ],
   "source": [
    "x = 'Structure[1]/AddAction[1]/LayoutCatalog[1]/Layout[10]/PartsList[1]/Part[1]/ObjectList[1]'\n",
    "p = 'Structure'\n",
    "tabExtraBtnPath = 'Structure[1]/AddAction[1]/LayoutCatalog[1]/Layout[11]/PartsList[1]/Part[1]/ObjectList[1]/LayoutObject[1]/Portal[1]/ObjectList[1]/LayoutObject[7]'\n",
    "\n",
    "def get_element():\n",
    "    elem = root.findall(tabExtraBtnPath)\n",
    "    return elem\n",
    "\n",
    "results = get_element()\n",
    "results[0].tag"
   ]
  },
  {
   "cell_type": "code",
   "execution_count": 24,
   "metadata": {},
   "outputs": [],
   "source": [
    "# find tag by text value\n",
    "\n",
    "lobjs = tree.xpath('/LayoutObject')\n",
    "len(target)\n",
    "for t in target:\n",
    "    print(t.text)"
   ]
  },
  {
   "cell_type": "code",
   "execution_count": null,
   "metadata": {},
   "outputs": [],
   "source": []
  }
 ],
 "metadata": {
  "interpreter": {
   "hash": "131290349878bc3c4f0b79c5b327e66ec34c7e85541c8b8ee2c64cac2fd1aa46"
  },
  "kernelspec": {
   "display_name": "Python 3.9.7 ('venv': venv)",
   "language": "python",
   "name": "python3"
  },
  "language_info": {
   "codemirror_mode": {
    "name": "ipython",
    "version": 3
   },
   "file_extension": ".py",
   "mimetype": "text/x-python",
   "name": "python",
   "nbconvert_exporter": "python",
   "pygments_lexer": "ipython3",
   "version": "3.9.7"
  },
  "orig_nbformat": 4
 },
 "nbformat": 4,
 "nbformat_minor": 2
}
